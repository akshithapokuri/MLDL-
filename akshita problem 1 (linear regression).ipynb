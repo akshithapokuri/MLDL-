{
 "cells": [
  {
   "cell_type": "markdown",
   "id": "f8aa5130",
   "metadata": {},
   "source": [
    "## given the data as shown"
   ]
  },
  {
   "cell_type": "code",
   "execution_count": 21,
   "id": "193e70f0",
   "metadata": {},
   "outputs": [],
   "source": [
    "x=[2,5,3,10]\n",
    "y=[8,25,9,40]"
   ]
  },
  {
   "cell_type": "markdown",
   "id": "36f695a0",
   "metadata": {},
   "source": [
    "## importing liberies"
   ]
  },
  {
   "cell_type": "code",
   "execution_count": 22,
   "id": "ce9fc8ef",
   "metadata": {},
   "outputs": [],
   "source": [
    "import pandas as pd\n",
    "import seaborn as sns\n",
    "import matplotlib.pyplot as plt\n",
    "import numpy as np\n",
    "%matplotlib inline"
   ]
  },
  {
   "cell_type": "markdown",
   "id": "ccae3094",
   "metadata": {},
   "source": [
    "### taking mean"
   ]
  },
  {
   "cell_type": "code",
   "execution_count": 60,
   "id": "944198b9",
   "metadata": {},
   "outputs": [],
   "source": [
    "x_mean=sum(x)/len(x)\n",
    "y_mean=sum(y)/len(y)"
   ]
  },
  {
   "cell_type": "code",
   "execution_count": 24,
   "id": "18f468b8",
   "metadata": {},
   "outputs": [
    {
     "data": {
      "text/plain": [
       "(5.0, 20.5)"
      ]
     },
     "execution_count": 24,
     "metadata": {},
     "output_type": "execute_result"
    }
   ],
   "source": [
    "x_mean,y_mean"
   ]
  },
  {
   "cell_type": "code",
   "execution_count": 25,
   "id": "d84305d2",
   "metadata": {},
   "outputs": [],
   "source": [
    "x1=[]\n",
    "for i in x:\n",
    "    x1.append(i-x_mean)\n",
    "y1=[]\n",
    "for j in y:\n",
    "    y1.append(j-y_mean)"
   ]
  },
  {
   "cell_type": "code",
   "execution_count": 26,
   "id": "3752912f",
   "metadata": {},
   "outputs": [
    {
     "data": {
      "text/plain": [
       "([-3.0, 0.0, -2.0, 5.0], [-12.5, 4.5, -11.5, 19.5])"
      ]
     },
     "execution_count": 26,
     "metadata": {},
     "output_type": "execute_result"
    }
   ],
   "source": [
    "x1,y1"
   ]
  },
  {
   "cell_type": "code",
   "execution_count": 31,
   "id": "e9144eeb",
   "metadata": {},
   "outputs": [],
   "source": [
    "sq_x1=np.multiply(x1,x1)\n",
    "x1_y1=np.multiply(x1,y1)"
   ]
  },
  {
   "cell_type": "code",
   "execution_count": 32,
   "id": "e6a7b282",
   "metadata": {},
   "outputs": [
    {
     "data": {
      "text/plain": [
       "(array([ 9.,  0.,  4., 25.]), array([37.5,  0. , 23. , 97.5]))"
      ]
     },
     "execution_count": 32,
     "metadata": {},
     "output_type": "execute_result"
    }
   ],
   "source": [
    "sq_x1,x1_y1"
   ]
  },
  {
   "cell_type": "code",
   "execution_count": 35,
   "id": "2aa012a2",
   "metadata": {},
   "outputs": [],
   "source": [
    "d={'x':x,'y':y,'x-x_mean':x1,'y-y_mean':y1,'(x-x_mean)^2':sq_x1,'(x-x_mean)*(y-y_mean)':x1_y1}"
   ]
  },
  {
   "cell_type": "code",
   "execution_count": 36,
   "id": "770c8eed",
   "metadata": {},
   "outputs": [],
   "source": [
    "df=pd.DataFrame(data=d)"
   ]
  },
  {
   "cell_type": "markdown",
   "id": "42d18018",
   "metadata": {},
   "source": [
    "## table for displaying  all the values"
   ]
  },
  {
   "cell_type": "code",
   "execution_count": 41,
   "id": "162d3277",
   "metadata": {},
   "outputs": [
    {
     "name": "stdout",
     "output_type": "stream",
     "text": [
      "x_mean=5.0\n",
      "y_mean=20.5\n"
     ]
    },
    {
     "data": {
      "text/html": [
       "<div>\n",
       "<style scoped>\n",
       "    .dataframe tbody tr th:only-of-type {\n",
       "        vertical-align: middle;\n",
       "    }\n",
       "\n",
       "    .dataframe tbody tr th {\n",
       "        vertical-align: top;\n",
       "    }\n",
       "\n",
       "    .dataframe thead th {\n",
       "        text-align: right;\n",
       "    }\n",
       "</style>\n",
       "<table border=\"1\" class=\"dataframe\">\n",
       "  <thead>\n",
       "    <tr style=\"text-align: right;\">\n",
       "      <th></th>\n",
       "      <th>x</th>\n",
       "      <th>y</th>\n",
       "      <th>x-x_mean</th>\n",
       "      <th>y-y_mean</th>\n",
       "      <th>(x-x_mean)^2</th>\n",
       "      <th>(x-x_mean)*(y-y_mean)</th>\n",
       "    </tr>\n",
       "  </thead>\n",
       "  <tbody>\n",
       "    <tr>\n",
       "      <th>0</th>\n",
       "      <td>2</td>\n",
       "      <td>8</td>\n",
       "      <td>-3.0</td>\n",
       "      <td>-12.5</td>\n",
       "      <td>9.0</td>\n",
       "      <td>37.5</td>\n",
       "    </tr>\n",
       "    <tr>\n",
       "      <th>1</th>\n",
       "      <td>5</td>\n",
       "      <td>25</td>\n",
       "      <td>0.0</td>\n",
       "      <td>4.5</td>\n",
       "      <td>0.0</td>\n",
       "      <td>0.0</td>\n",
       "    </tr>\n",
       "    <tr>\n",
       "      <th>2</th>\n",
       "      <td>3</td>\n",
       "      <td>9</td>\n",
       "      <td>-2.0</td>\n",
       "      <td>-11.5</td>\n",
       "      <td>4.0</td>\n",
       "      <td>23.0</td>\n",
       "    </tr>\n",
       "    <tr>\n",
       "      <th>3</th>\n",
       "      <td>10</td>\n",
       "      <td>40</td>\n",
       "      <td>5.0</td>\n",
       "      <td>19.5</td>\n",
       "      <td>25.0</td>\n",
       "      <td>97.5</td>\n",
       "    </tr>\n",
       "  </tbody>\n",
       "</table>\n",
       "</div>"
      ],
      "text/plain": [
       "    x   y  x-x_mean  y-y_mean  (x-x_mean)^2  (x-x_mean)*(y-y_mean)\n",
       "0   2   8      -3.0     -12.5           9.0                   37.5\n",
       "1   5  25       0.0       4.5           0.0                    0.0\n",
       "2   3   9      -2.0     -11.5           4.0                   23.0\n",
       "3  10  40       5.0      19.5          25.0                   97.5"
      ]
     },
     "execution_count": 41,
     "metadata": {},
     "output_type": "execute_result"
    }
   ],
   "source": [
    "print('x_mean='+ str(x_mean))\n",
    "print('y_mean='+ str(y_mean))\n",
    "df"
   ]
  },
  {
   "cell_type": "markdown",
   "id": "e30a34ce",
   "metadata": {},
   "source": [
    "### finding mode of the line equaction using the formulae \n",
    "### mode = sum((x-mean(x))(y-mean(y)) / sum((x-mean(x))^2)"
   ]
  },
  {
   "cell_type": "code",
   "execution_count": 61,
   "id": "c71cf1d2",
   "metadata": {},
   "outputs": [
    {
     "data": {
      "text/plain": [
       "4.157894736842105"
      ]
     },
     "execution_count": 61,
     "metadata": {},
     "output_type": "execute_result"
    }
   ],
   "source": [
    "mode=sum(x1_y1)/sum(sq_x1)\n",
    "mode"
   ]
  },
  {
   "cell_type": "code",
   "execution_count": 62,
   "id": "13d06c5e",
   "metadata": {},
   "outputs": [
    {
     "data": {
      "text/plain": [
       "-0.28947368421052744"
      ]
     },
     "execution_count": 62,
     "metadata": {},
     "output_type": "execute_result"
    }
   ],
   "source": [
    "coeff=y_mean-x_mean*m\n",
    "coeff"
   ]
  },
  {
   "cell_type": "markdown",
   "id": "3abdc64d",
   "metadata": {},
   "source": [
    "# so the equaction of line is: Y=4.157*X-0.289"
   ]
  },
  {
   "cell_type": "code",
   "execution_count": 63,
   "id": "1219e7d6",
   "metadata": {},
   "outputs": [],
   "source": [
    "x_new=np.linspace(0,12,50)\n",
    "y_new=mode*x_new+coeff"
   ]
  },
  {
   "cell_type": "code",
   "execution_count": 71,
   "id": "be554b21",
   "metadata": {},
   "outputs": [],
   "source": [
    "d1={'x-axis':x_new,'y-axis':y_new}\n",
    "data=pd.DataFrame(data=d1)"
   ]
  },
  {
   "cell_type": "code",
   "execution_count": 72,
   "id": "17483678",
   "metadata": {},
   "outputs": [
    {
     "data": {
      "text/plain": [
       "<AxesSubplot:xlabel='x-axis', ylabel='y-axis'>"
      ]
     },
     "execution_count": 72,
     "metadata": {},
     "output_type": "execute_result"
    },
    {
     "data": {
      "image/png": "[encoded data removed]",
      "text/plain": [
       "<Figure size 432x288 with 1 Axes>"
      ]
     },
     "metadata": {
      "needs_background": "light"
     },
     "output_type": "display_data"
    }
   ],
   "source": [
    "sns.lineplot(data=data, x=\"x-axis\", y=\"y-axis\",color='red')\n",
    "sns.scatterplot(data=df, x=\"x\", y=\"y\",color='green')"
   ]
  },
  {
   "cell_type": "code",
   "execution_count": null,
   "id": "8288fa58",
   "metadata": {},
   "outputs": [],
   "source": []
  }
 ],
 "metadata": {
  "kernelspec": {
   "display_name": "Python 3",
   "language": "python",
   "name": "python3"
  },
  "language_info": {
   "codemirror_mode": {
    "name": "ipython",
    "version": 3
   },
   "file_extension": ".py",
   "mimetype": "text/x-python",
   "name": "python",
   "nbconvert_exporter": "python",
   "pygments_lexer": "ipython3",
   "version": "3.8.8"
  }
 },
 "nbformat": 4,
 "nbformat_minor": 5
}
